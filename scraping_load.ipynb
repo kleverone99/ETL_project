{
 "cells": [
  {
   "cell_type": "code",
   "execution_count": 2,
   "metadata": {},
   "outputs": [],
   "source": [
    "from splinter import Browser\n",
    "from bs4 import BeautifulSoup\n",
    "from webdriver_manager.chrome import ChromeDriverManager\n",
    "import requests\n",
    "import pymongo\n",
    "import pandas as pd\n",
    "from sqlalchemy import create_engine\n",
    "\n",
    "from config import pwd\n"
   ]
  },
  {
   "cell_type": "code",
   "execution_count": 3,
   "metadata": {},
   "outputs": [],
   "source": [
    "import sys"
   ]
  },
  {
   "cell_type": "code",
   "execution_count": 4,
   "metadata": {},
   "outputs": [],
   "source": [
    "conn = 'mongodb://localhost:27017'\n",
    "client = pymongo.MongoClient(conn)"
   ]
  },
  {
   "cell_type": "code",
   "execution_count": 5,
   "metadata": {},
   "outputs": [],
   "source": [
    "db = client.quotes_db\n",
    "collections = db.scraped_quotes\n",
    "collections_1 = db.result"
   ]
  },
  {
   "cell_type": "code",
   "execution_count": 6,
   "metadata": {},
   "outputs": [],
   "source": [
    "scraped_quotes = []\n",
    "for x in range(1, 11):\n",
    "    try:\n",
    "        url = 'https://quotes.toscrape.com/page/'\n",
    "        response  = requests.get(url + str(x))\n",
    "        html = response.text\n",
    "        soup = BeautifulSoup(html, 'html.parser')\n",
    "        \n",
    "        quotes = soup.find_all('div', class_ = 'quote')\n",
    "        for q in range(0, len(quotes)):\n",
    "            quote = quotes[q]\n",
    "            quote_text = quote.text.strip().split('\\n')[0]\n",
    "            author = quote.find('small' , class_='author').text\n",
    "            tags = [tag.text for tag in quote.find('div', class_='tags').find_all('a', class_='tag')]\n",
    "            scraped_quotes.append({'quote' : quote_text, 'author' : author, 'tags' : tags})\n",
    "    except Exception as e:\n",
    "            print(e)"
   ]
  },
  {
   "cell_type": "code",
   "execution_count": 7,
   "metadata": {},
   "outputs": [
    {
     "data": {
      "text/plain": [
       "100"
      ]
     },
     "execution_count": 7,
     "metadata": {},
     "output_type": "execute_result"
    }
   ],
   "source": [
    "len(scraped_quotes)"
   ]
  },
  {
   "cell_type": "code",
   "execution_count": 8,
   "metadata": {},
   "outputs": [],
   "source": [
    "result = []\n",
    "for y in range(1, 11):\n",
    "    try:\n",
    "        url = 'https://quotes.toscrape.com/page/'\n",
    "        response  = requests.get(url + str(y))\n",
    "        html = response.text\n",
    "        soup = BeautifulSoup(html, 'html.parser')\n",
    "        \n",
    "        quotes = soup.find_all('div', class_ = 'quote')\n",
    "        for w in range(0, len(quotes)):\n",
    "            quote = quotes[w]\n",
    "            link = quote.a['href']\n",
    "            about_link = requests.get('https://quotes.toscrape.com/' + link)\n",
    "            html_1 = about_link.text\n",
    "            soup_1 = BeautifulSoup(html_1, 'html.parser')\n",
    "            born_info = soup_1.find('span' , class_ = 'author-born-date').text.strip().split('\\n')[0]\n",
    "            name_info = soup_1.find('h3', class_ = 'author-title').text.strip().split('\\n')[0]\n",
    "            description_info = soup_1.find('div' , class_=\"author-description\").text.strip().split('\\n')[0]\n",
    "            result.append({'name':name_info, 'born': born_info, 'description':description_info})\n",
    "            \n",
    "    except Exception as e:\n",
    "        print(e)"
   ]
  },
  {
   "cell_type": "code",
   "execution_count": 9,
   "metadata": {},
   "outputs": [
    {
     "data": {
      "text/plain": [
       "Collection(Database(MongoClient(host=['localhost:27017'], document_class=dict, tz_aware=False, connect=True), 'quotes_db'), 'scraped_quotes')"
      ]
     },
     "execution_count": 9,
     "metadata": {},
     "output_type": "execute_result"
    }
   ],
   "source": [
    "collections"
   ]
  },
  {
   "cell_type": "code",
   "execution_count": 10,
   "metadata": {},
   "outputs": [
    {
     "data": {
      "text/plain": [
       "<pymongo.results.InsertManyResult at 0x26302529a80>"
      ]
     },
     "execution_count": 10,
     "metadata": {},
     "output_type": "execute_result"
    }
   ],
   "source": [
    "collections.insert_many(scraped_quotes)"
   ]
  },
  {
   "cell_type": "code",
   "execution_count": 11,
   "metadata": {},
   "outputs": [
    {
     "data": {
      "text/plain": [
       "<pymongo.results.InsertManyResult at 0x263027ebe80>"
      ]
     },
     "execution_count": 11,
     "metadata": {},
     "output_type": "execute_result"
    }
   ],
   "source": [
    "collections_1.insert_many(result)"
   ]
  },
  {
   "cell_type": "code",
   "execution_count": 12,
   "metadata": {},
   "outputs": [
    {
     "data": {
      "text/html": [
       "<div>\n",
       "<style scoped>\n",
       "    .dataframe tbody tr th:only-of-type {\n",
       "        vertical-align: middle;\n",
       "    }\n",
       "\n",
       "    .dataframe tbody tr th {\n",
       "        vertical-align: top;\n",
       "    }\n",
       "\n",
       "    .dataframe thead th {\n",
       "        text-align: right;\n",
       "    }\n",
       "</style>\n",
       "<table border=\"1\" class=\"dataframe\">\n",
       "  <thead>\n",
       "    <tr style=\"text-align: right;\">\n",
       "      <th></th>\n",
       "      <th>name</th>\n",
       "      <th>born</th>\n",
       "      <th>description</th>\n",
       "    </tr>\n",
       "  </thead>\n",
       "  <tbody>\n",
       "    <tr>\n",
       "      <th>0</th>\n",
       "      <td>Albert Einstein</td>\n",
       "      <td>March 14, 1879</td>\n",
       "      <td>In 1879, Albert Einstein was born in Ulm, Germ...</td>\n",
       "    </tr>\n",
       "    <tr>\n",
       "      <th>1</th>\n",
       "      <td>J.K. Rowling</td>\n",
       "      <td>July 31, 1965</td>\n",
       "      <td>See also: Robert GalbraithAlthough she writes ...</td>\n",
       "    </tr>\n",
       "    <tr>\n",
       "      <th>2</th>\n",
       "      <td>Albert Einstein</td>\n",
       "      <td>March 14, 1879</td>\n",
       "      <td>In 1879, Albert Einstein was born in Ulm, Germ...</td>\n",
       "    </tr>\n",
       "    <tr>\n",
       "      <th>3</th>\n",
       "      <td>Jane Austen</td>\n",
       "      <td>December 16, 1775</td>\n",
       "      <td>Jane Austen was an English novelist whose work...</td>\n",
       "    </tr>\n",
       "    <tr>\n",
       "      <th>4</th>\n",
       "      <td>Marilyn Monroe</td>\n",
       "      <td>June 01, 1926</td>\n",
       "      <td>Marilyn Monroe (born Norma Jeane Mortenson; Ju...</td>\n",
       "    </tr>\n",
       "    <tr>\n",
       "      <th>...</th>\n",
       "      <td>...</td>\n",
       "      <td>...</td>\n",
       "      <td>...</td>\n",
       "    </tr>\n",
       "    <tr>\n",
       "      <th>495</th>\n",
       "      <td>Harper Lee</td>\n",
       "      <td>April 28, 1926</td>\n",
       "      <td>Harper Lee, known as Nelle, was born in the Al...</td>\n",
       "    </tr>\n",
       "    <tr>\n",
       "      <th>496</th>\n",
       "      <td>Madeleine L'Engle</td>\n",
       "      <td>November 29, 1918</td>\n",
       "      <td>Madeleine L'Engle was an American writer best ...</td>\n",
       "    </tr>\n",
       "    <tr>\n",
       "      <th>497</th>\n",
       "      <td>Mark Twain</td>\n",
       "      <td>November 30, 1835</td>\n",
       "      <td>Samuel Langhorne Clemens, better known by his ...</td>\n",
       "    </tr>\n",
       "    <tr>\n",
       "      <th>498</th>\n",
       "      <td>Dr. Seuss</td>\n",
       "      <td>March 02, 1904</td>\n",
       "      <td>Theodor Seuss Geisel was born 2 March 1904 in ...</td>\n",
       "    </tr>\n",
       "    <tr>\n",
       "      <th>499</th>\n",
       "      <td>George R.R. Martin</td>\n",
       "      <td>September 20, 1948</td>\n",
       "      <td>George R. R. Martin was born September 20, 194...</td>\n",
       "    </tr>\n",
       "  </tbody>\n",
       "</table>\n",
       "<p>500 rows × 3 columns</p>\n",
       "</div>"
      ],
      "text/plain": [
       "                   name                born  \\\n",
       "0       Albert Einstein      March 14, 1879   \n",
       "1          J.K. Rowling       July 31, 1965   \n",
       "2       Albert Einstein      March 14, 1879   \n",
       "3           Jane Austen   December 16, 1775   \n",
       "4        Marilyn Monroe       June 01, 1926   \n",
       "..                  ...                 ...   \n",
       "495          Harper Lee      April 28, 1926   \n",
       "496   Madeleine L'Engle   November 29, 1918   \n",
       "497          Mark Twain   November 30, 1835   \n",
       "498           Dr. Seuss      March 02, 1904   \n",
       "499  George R.R. Martin  September 20, 1948   \n",
       "\n",
       "                                           description  \n",
       "0    In 1879, Albert Einstein was born in Ulm, Germ...  \n",
       "1    See also: Robert GalbraithAlthough she writes ...  \n",
       "2    In 1879, Albert Einstein was born in Ulm, Germ...  \n",
       "3    Jane Austen was an English novelist whose work...  \n",
       "4    Marilyn Monroe (born Norma Jeane Mortenson; Ju...  \n",
       "..                                                 ...  \n",
       "495  Harper Lee, known as Nelle, was born in the Al...  \n",
       "496  Madeleine L'Engle was an American writer best ...  \n",
       "497  Samuel Langhorne Clemens, better known by his ...  \n",
       "498  Theodor Seuss Geisel was born 2 March 1904 in ...  \n",
       "499  George R. R. Martin was born September 20, 194...  \n",
       "\n",
       "[500 rows x 3 columns]"
      ]
     },
     "execution_count": 12,
     "metadata": {},
     "output_type": "execute_result"
    }
   ],
   "source": [
    "result_from_mongo = db.result\n",
    "df1 = pd.DataFrame(list(result_from_mongo.find()))\n",
    "df1 = df1[['name', 'born', 'description']]\n",
    "df1"
   ]
  },
  {
   "cell_type": "code",
   "execution_count": 13,
   "metadata": {},
   "outputs": [
    {
     "data": {
      "text/html": [
       "<div>\n",
       "<style scoped>\n",
       "    .dataframe tbody tr th:only-of-type {\n",
       "        vertical-align: middle;\n",
       "    }\n",
       "\n",
       "    .dataframe tbody tr th {\n",
       "        vertical-align: top;\n",
       "    }\n",
       "\n",
       "    .dataframe thead th {\n",
       "        text-align: right;\n",
       "    }\n",
       "</style>\n",
       "<table border=\"1\" class=\"dataframe\">\n",
       "  <thead>\n",
       "    <tr style=\"text-align: right;\">\n",
       "      <th></th>\n",
       "      <th>quote</th>\n",
       "      <th>author</th>\n",
       "      <th>tags</th>\n",
       "    </tr>\n",
       "  </thead>\n",
       "  <tbody>\n",
       "    <tr>\n",
       "      <th>0</th>\n",
       "      <td>“The world as we have created it is a process ...</td>\n",
       "      <td>Albert Einstein</td>\n",
       "      <td>[change, deep-thoughts, thinking, world]</td>\n",
       "    </tr>\n",
       "    <tr>\n",
       "      <th>1</th>\n",
       "      <td>“It is our choices, Harry, that show what we t...</td>\n",
       "      <td>J.K. Rowling</td>\n",
       "      <td>[abilities, choices]</td>\n",
       "    </tr>\n",
       "    <tr>\n",
       "      <th>2</th>\n",
       "      <td>“There are only two ways to live your life. On...</td>\n",
       "      <td>Albert Einstein</td>\n",
       "      <td>[inspirational, life, live, miracle, miracles]</td>\n",
       "    </tr>\n",
       "    <tr>\n",
       "      <th>3</th>\n",
       "      <td>“The person, be it gentleman or lady, who has ...</td>\n",
       "      <td>Jane Austen</td>\n",
       "      <td>[aliteracy, books, classic, humor]</td>\n",
       "    </tr>\n",
       "    <tr>\n",
       "      <th>4</th>\n",
       "      <td>“Imperfection is beauty, madness is genius and...</td>\n",
       "      <td>Marilyn Monroe</td>\n",
       "      <td>[be-yourself, inspirational]</td>\n",
       "    </tr>\n",
       "    <tr>\n",
       "      <th>...</th>\n",
       "      <td>...</td>\n",
       "      <td>...</td>\n",
       "      <td>...</td>\n",
       "    </tr>\n",
       "    <tr>\n",
       "      <th>495</th>\n",
       "      <td>“You never really understand a person until yo...</td>\n",
       "      <td>Harper Lee</td>\n",
       "      <td>[better-life-empathy]</td>\n",
       "    </tr>\n",
       "    <tr>\n",
       "      <th>496</th>\n",
       "      <td>“You have to write the book that wants to be w...</td>\n",
       "      <td>Madeleine L'Engle</td>\n",
       "      <td>[books, children, difficult, grown-ups, write,...</td>\n",
       "    </tr>\n",
       "    <tr>\n",
       "      <th>497</th>\n",
       "      <td>“Never tell the truth to people who are not wo...</td>\n",
       "      <td>Mark Twain</td>\n",
       "      <td>[truth]</td>\n",
       "    </tr>\n",
       "    <tr>\n",
       "      <th>498</th>\n",
       "      <td>“A person's a person, no matter how small.”</td>\n",
       "      <td>Dr. Seuss</td>\n",
       "      <td>[inspirational]</td>\n",
       "    </tr>\n",
       "    <tr>\n",
       "      <th>499</th>\n",
       "      <td>“... a mind needs books as a sword needs a whe...</td>\n",
       "      <td>George R.R. Martin</td>\n",
       "      <td>[books, mind]</td>\n",
       "    </tr>\n",
       "  </tbody>\n",
       "</table>\n",
       "<p>500 rows × 3 columns</p>\n",
       "</div>"
      ],
      "text/plain": [
       "                                                 quote              author  \\\n",
       "0    “The world as we have created it is a process ...     Albert Einstein   \n",
       "1    “It is our choices, Harry, that show what we t...        J.K. Rowling   \n",
       "2    “There are only two ways to live your life. On...     Albert Einstein   \n",
       "3    “The person, be it gentleman or lady, who has ...         Jane Austen   \n",
       "4    “Imperfection is beauty, madness is genius and...      Marilyn Monroe   \n",
       "..                                                 ...                 ...   \n",
       "495  “You never really understand a person until yo...          Harper Lee   \n",
       "496  “You have to write the book that wants to be w...   Madeleine L'Engle   \n",
       "497  “Never tell the truth to people who are not wo...          Mark Twain   \n",
       "498        “A person's a person, no matter how small.”           Dr. Seuss   \n",
       "499  “... a mind needs books as a sword needs a whe...  George R.R. Martin   \n",
       "\n",
       "                                                  tags  \n",
       "0             [change, deep-thoughts, thinking, world]  \n",
       "1                                 [abilities, choices]  \n",
       "2       [inspirational, life, live, miracle, miracles]  \n",
       "3                   [aliteracy, books, classic, humor]  \n",
       "4                         [be-yourself, inspirational]  \n",
       "..                                                 ...  \n",
       "495                              [better-life-empathy]  \n",
       "496  [books, children, difficult, grown-ups, write,...  \n",
       "497                                            [truth]  \n",
       "498                                    [inspirational]  \n",
       "499                                      [books, mind]  \n",
       "\n",
       "[500 rows x 3 columns]"
      ]
     },
     "execution_count": 13,
     "metadata": {},
     "output_type": "execute_result"
    }
   ],
   "source": [
    "scraped_quotes_from_mongo = db.scraped_quotes\n",
    "df2 = pd.DataFrame(list(scraped_quotes_from_mongo.find()))\n",
    "df2 = df2[['quote', 'author', 'tags']]\n",
    "df2"
   ]
  },
  {
   "cell_type": "code",
   "execution_count": 17,
   "metadata": {},
   "outputs": [],
   "source": [
    "quote_df = df2[['quote', 'author','tags']]"
   ]
  },
  {
   "cell_type": "code",
   "execution_count": 18,
   "metadata": {},
   "outputs": [],
   "source": [
    "quote_df = quote_df.rename(columns = {'id' : 'quote_id', 'quote' : 'quote_text', 'author':'author_name', 'tags':'tag'})"
   ]
  },
  {
   "cell_type": "code",
   "execution_count": 19,
   "metadata": {},
   "outputs": [],
   "source": [
    "author_df = df1[['name', 'born', 'description']]\n",
    "author_df = author_df.drop_duplicates()\n"
   ]
  },
  {
   "cell_type": "code",
   "execution_count": 20,
   "metadata": {},
   "outputs": [],
   "source": [
    "quote_df.insert(0,'id',quote_df.index + 1)"
   ]
  },
  {
   "cell_type": "code",
   "execution_count": 21,
   "metadata": {},
   "outputs": [],
   "source": [
    "author_df.insert(0,'id',author_df.index + 1)"
   ]
  },
  {
   "cell_type": "code",
   "execution_count": 22,
   "metadata": {},
   "outputs": [
    {
     "data": {
      "text/html": [
       "<div>\n",
       "<style scoped>\n",
       "    .dataframe tbody tr th:only-of-type {\n",
       "        vertical-align: middle;\n",
       "    }\n",
       "\n",
       "    .dataframe tbody tr th {\n",
       "        vertical-align: top;\n",
       "    }\n",
       "\n",
       "    .dataframe thead th {\n",
       "        text-align: right;\n",
       "    }\n",
       "</style>\n",
       "<table border=\"1\" class=\"dataframe\">\n",
       "  <thead>\n",
       "    <tr style=\"text-align: right;\">\n",
       "      <th></th>\n",
       "      <th>quote_id</th>\n",
       "      <th>quote_text</th>\n",
       "      <th>author_name</th>\n",
       "      <th>tag</th>\n",
       "    </tr>\n",
       "  </thead>\n",
       "  <tbody>\n",
       "    <tr>\n",
       "      <th>0</th>\n",
       "      <td>1</td>\n",
       "      <td>“The world as we have created it is a process ...</td>\n",
       "      <td>Albert Einstein</td>\n",
       "      <td>[change, deep-thoughts, thinking, world]</td>\n",
       "    </tr>\n",
       "    <tr>\n",
       "      <th>1</th>\n",
       "      <td>2</td>\n",
       "      <td>“It is our choices, Harry, that show what we t...</td>\n",
       "      <td>J.K. Rowling</td>\n",
       "      <td>[abilities, choices]</td>\n",
       "    </tr>\n",
       "    <tr>\n",
       "      <th>2</th>\n",
       "      <td>3</td>\n",
       "      <td>“There are only two ways to live your life. On...</td>\n",
       "      <td>Albert Einstein</td>\n",
       "      <td>[inspirational, life, live, miracle, miracles]</td>\n",
       "    </tr>\n",
       "    <tr>\n",
       "      <th>3</th>\n",
       "      <td>4</td>\n",
       "      <td>“The person, be it gentleman or lady, who has ...</td>\n",
       "      <td>Jane Austen</td>\n",
       "      <td>[aliteracy, books, classic, humor]</td>\n",
       "    </tr>\n",
       "    <tr>\n",
       "      <th>4</th>\n",
       "      <td>5</td>\n",
       "      <td>“Imperfection is beauty, madness is genius and...</td>\n",
       "      <td>Marilyn Monroe</td>\n",
       "      <td>[be-yourself, inspirational]</td>\n",
       "    </tr>\n",
       "    <tr>\n",
       "      <th>...</th>\n",
       "      <td>...</td>\n",
       "      <td>...</td>\n",
       "      <td>...</td>\n",
       "      <td>...</td>\n",
       "    </tr>\n",
       "    <tr>\n",
       "      <th>495</th>\n",
       "      <td>496</td>\n",
       "      <td>“You never really understand a person until yo...</td>\n",
       "      <td>Harper Lee</td>\n",
       "      <td>[better-life-empathy]</td>\n",
       "    </tr>\n",
       "    <tr>\n",
       "      <th>496</th>\n",
       "      <td>497</td>\n",
       "      <td>“You have to write the book that wants to be w...</td>\n",
       "      <td>Madeleine L'Engle</td>\n",
       "      <td>[books, children, difficult, grown-ups, write,...</td>\n",
       "    </tr>\n",
       "    <tr>\n",
       "      <th>497</th>\n",
       "      <td>498</td>\n",
       "      <td>“Never tell the truth to people who are not wo...</td>\n",
       "      <td>Mark Twain</td>\n",
       "      <td>[truth]</td>\n",
       "    </tr>\n",
       "    <tr>\n",
       "      <th>498</th>\n",
       "      <td>499</td>\n",
       "      <td>“A person's a person, no matter how small.”</td>\n",
       "      <td>Dr. Seuss</td>\n",
       "      <td>[inspirational]</td>\n",
       "    </tr>\n",
       "    <tr>\n",
       "      <th>499</th>\n",
       "      <td>500</td>\n",
       "      <td>“... a mind needs books as a sword needs a whe...</td>\n",
       "      <td>George R.R. Martin</td>\n",
       "      <td>[books, mind]</td>\n",
       "    </tr>\n",
       "  </tbody>\n",
       "</table>\n",
       "<p>500 rows × 4 columns</p>\n",
       "</div>"
      ],
      "text/plain": [
       "     quote_id                                         quote_text  \\\n",
       "0           1  “The world as we have created it is a process ...   \n",
       "1           2  “It is our choices, Harry, that show what we t...   \n",
       "2           3  “There are only two ways to live your life. On...   \n",
       "3           4  “The person, be it gentleman or lady, who has ...   \n",
       "4           5  “Imperfection is beauty, madness is genius and...   \n",
       "..        ...                                                ...   \n",
       "495       496  “You never really understand a person until yo...   \n",
       "496       497  “You have to write the book that wants to be w...   \n",
       "497       498  “Never tell the truth to people who are not wo...   \n",
       "498       499        “A person's a person, no matter how small.”   \n",
       "499       500  “... a mind needs books as a sword needs a whe...   \n",
       "\n",
       "            author_name                                                tag  \n",
       "0       Albert Einstein           [change, deep-thoughts, thinking, world]  \n",
       "1          J.K. Rowling                               [abilities, choices]  \n",
       "2       Albert Einstein     [inspirational, life, live, miracle, miracles]  \n",
       "3           Jane Austen                 [aliteracy, books, classic, humor]  \n",
       "4        Marilyn Monroe                       [be-yourself, inspirational]  \n",
       "..                  ...                                                ...  \n",
       "495          Harper Lee                              [better-life-empathy]  \n",
       "496   Madeleine L'Engle  [books, children, difficult, grown-ups, write,...  \n",
       "497          Mark Twain                                            [truth]  \n",
       "498           Dr. Seuss                                    [inspirational]  \n",
       "499  George R.R. Martin                                      [books, mind]  \n",
       "\n",
       "[500 rows x 4 columns]"
      ]
     },
     "execution_count": 22,
     "metadata": {},
     "output_type": "execute_result"
    }
   ],
   "source": [
    "quote_df = quote_df.rename(columns = {'id' : 'quote_id'})\n",
    "quote_df"
   ]
  },
  {
   "cell_type": "code",
   "execution_count": 23,
   "metadata": {},
   "outputs": [],
   "source": [
    "author_df = author_df.rename(columns = {'id' : 'author_id'})"
   ]
  },
  {
   "cell_type": "code",
   "execution_count": 25,
   "metadata": {},
   "outputs": [
    {
     "data": {
      "text/html": [
       "<div>\n",
       "<style scoped>\n",
       "    .dataframe tbody tr th:only-of-type {\n",
       "        vertical-align: middle;\n",
       "    }\n",
       "\n",
       "    .dataframe tbody tr th {\n",
       "        vertical-align: top;\n",
       "    }\n",
       "\n",
       "    .dataframe thead th {\n",
       "        text-align: right;\n",
       "    }\n",
       "</style>\n",
       "<table border=\"1\" class=\"dataframe\">\n",
       "  <thead>\n",
       "    <tr style=\"text-align: right;\">\n",
       "      <th></th>\n",
       "      <th>quote_id</th>\n",
       "      <th>tag</th>\n",
       "    </tr>\n",
       "  </thead>\n",
       "  <tbody>\n",
       "    <tr>\n",
       "      <th>0</th>\n",
       "      <td>1</td>\n",
       "      <td>[change, deep-thoughts, thinking, world]</td>\n",
       "    </tr>\n",
       "    <tr>\n",
       "      <th>1</th>\n",
       "      <td>2</td>\n",
       "      <td>[abilities, choices]</td>\n",
       "    </tr>\n",
       "    <tr>\n",
       "      <th>2</th>\n",
       "      <td>3</td>\n",
       "      <td>[inspirational, life, live, miracle, miracles]</td>\n",
       "    </tr>\n",
       "    <tr>\n",
       "      <th>3</th>\n",
       "      <td>4</td>\n",
       "      <td>[aliteracy, books, classic, humor]</td>\n",
       "    </tr>\n",
       "    <tr>\n",
       "      <th>4</th>\n",
       "      <td>5</td>\n",
       "      <td>[be-yourself, inspirational]</td>\n",
       "    </tr>\n",
       "    <tr>\n",
       "      <th>...</th>\n",
       "      <td>...</td>\n",
       "      <td>...</td>\n",
       "    </tr>\n",
       "    <tr>\n",
       "      <th>495</th>\n",
       "      <td>496</td>\n",
       "      <td>[better-life-empathy]</td>\n",
       "    </tr>\n",
       "    <tr>\n",
       "      <th>496</th>\n",
       "      <td>497</td>\n",
       "      <td>[books, children, difficult, grown-ups, write,...</td>\n",
       "    </tr>\n",
       "    <tr>\n",
       "      <th>497</th>\n",
       "      <td>498</td>\n",
       "      <td>[truth]</td>\n",
       "    </tr>\n",
       "    <tr>\n",
       "      <th>498</th>\n",
       "      <td>499</td>\n",
       "      <td>[inspirational]</td>\n",
       "    </tr>\n",
       "    <tr>\n",
       "      <th>499</th>\n",
       "      <td>500</td>\n",
       "      <td>[books, mind]</td>\n",
       "    </tr>\n",
       "  </tbody>\n",
       "</table>\n",
       "<p>500 rows × 2 columns</p>\n",
       "</div>"
      ],
      "text/plain": [
       "     quote_id                                                tag\n",
       "0           1           [change, deep-thoughts, thinking, world]\n",
       "1           2                               [abilities, choices]\n",
       "2           3     [inspirational, life, live, miracle, miracles]\n",
       "3           4                 [aliteracy, books, classic, humor]\n",
       "4           5                       [be-yourself, inspirational]\n",
       "..        ...                                                ...\n",
       "495       496                              [better-life-empathy]\n",
       "496       497  [books, children, difficult, grown-ups, write,...\n",
       "497       498                                            [truth]\n",
       "498       499                                    [inspirational]\n",
       "499       500                                      [books, mind]\n",
       "\n",
       "[500 rows x 2 columns]"
      ]
     },
     "execution_count": 25,
     "metadata": {},
     "output_type": "execute_result"
    }
   ],
   "source": [
    "tags = quote_df[['quote_id', 'tag']]\n",
    "tags"
   ]
  },
  {
   "cell_type": "code",
   "execution_count": 26,
   "metadata": {},
   "outputs": [
    {
     "data": {
      "text/html": [
       "<div>\n",
       "<style scoped>\n",
       "    .dataframe tbody tr th:only-of-type {\n",
       "        vertical-align: middle;\n",
       "    }\n",
       "\n",
       "    .dataframe tbody tr th {\n",
       "        vertical-align: top;\n",
       "    }\n",
       "\n",
       "    .dataframe thead th {\n",
       "        text-align: right;\n",
       "    }\n",
       "</style>\n",
       "<table border=\"1\" class=\"dataframe\">\n",
       "  <thead>\n",
       "    <tr style=\"text-align: right;\">\n",
       "      <th></th>\n",
       "      <th>quote_id</th>\n",
       "      <th>quote_text</th>\n",
       "      <th>author_name</th>\n",
       "    </tr>\n",
       "  </thead>\n",
       "  <tbody>\n",
       "    <tr>\n",
       "      <th>0</th>\n",
       "      <td>1</td>\n",
       "      <td>“The world as we have created it is a process ...</td>\n",
       "      <td>Albert Einstein</td>\n",
       "    </tr>\n",
       "    <tr>\n",
       "      <th>1</th>\n",
       "      <td>2</td>\n",
       "      <td>“It is our choices, Harry, that show what we t...</td>\n",
       "      <td>J.K. Rowling</td>\n",
       "    </tr>\n",
       "    <tr>\n",
       "      <th>2</th>\n",
       "      <td>3</td>\n",
       "      <td>“There are only two ways to live your life. On...</td>\n",
       "      <td>Albert Einstein</td>\n",
       "    </tr>\n",
       "    <tr>\n",
       "      <th>3</th>\n",
       "      <td>4</td>\n",
       "      <td>“The person, be it gentleman or lady, who has ...</td>\n",
       "      <td>Jane Austen</td>\n",
       "    </tr>\n",
       "    <tr>\n",
       "      <th>4</th>\n",
       "      <td>5</td>\n",
       "      <td>“Imperfection is beauty, madness is genius and...</td>\n",
       "      <td>Marilyn Monroe</td>\n",
       "    </tr>\n",
       "    <tr>\n",
       "      <th>...</th>\n",
       "      <td>...</td>\n",
       "      <td>...</td>\n",
       "      <td>...</td>\n",
       "    </tr>\n",
       "    <tr>\n",
       "      <th>495</th>\n",
       "      <td>496</td>\n",
       "      <td>“You never really understand a person until yo...</td>\n",
       "      <td>Harper Lee</td>\n",
       "    </tr>\n",
       "    <tr>\n",
       "      <th>496</th>\n",
       "      <td>497</td>\n",
       "      <td>“You have to write the book that wants to be w...</td>\n",
       "      <td>Madeleine L'Engle</td>\n",
       "    </tr>\n",
       "    <tr>\n",
       "      <th>497</th>\n",
       "      <td>498</td>\n",
       "      <td>“Never tell the truth to people who are not wo...</td>\n",
       "      <td>Mark Twain</td>\n",
       "    </tr>\n",
       "    <tr>\n",
       "      <th>498</th>\n",
       "      <td>499</td>\n",
       "      <td>“A person's a person, no matter how small.”</td>\n",
       "      <td>Dr. Seuss</td>\n",
       "    </tr>\n",
       "    <tr>\n",
       "      <th>499</th>\n",
       "      <td>500</td>\n",
       "      <td>“... a mind needs books as a sword needs a whe...</td>\n",
       "      <td>George R.R. Martin</td>\n",
       "    </tr>\n",
       "  </tbody>\n",
       "</table>\n",
       "<p>500 rows × 3 columns</p>\n",
       "</div>"
      ],
      "text/plain": [
       "     quote_id                                         quote_text  \\\n",
       "0           1  “The world as we have created it is a process ...   \n",
       "1           2  “It is our choices, Harry, that show what we t...   \n",
       "2           3  “There are only two ways to live your life. On...   \n",
       "3           4  “The person, be it gentleman or lady, who has ...   \n",
       "4           5  “Imperfection is beauty, madness is genius and...   \n",
       "..        ...                                                ...   \n",
       "495       496  “You never really understand a person until yo...   \n",
       "496       497  “You have to write the book that wants to be w...   \n",
       "497       498  “Never tell the truth to people who are not wo...   \n",
       "498       499        “A person's a person, no matter how small.”   \n",
       "499       500  “... a mind needs books as a sword needs a whe...   \n",
       "\n",
       "            author_name  \n",
       "0       Albert Einstein  \n",
       "1          J.K. Rowling  \n",
       "2       Albert Einstein  \n",
       "3           Jane Austen  \n",
       "4        Marilyn Monroe  \n",
       "..                  ...  \n",
       "495          Harper Lee  \n",
       "496   Madeleine L'Engle  \n",
       "497          Mark Twain  \n",
       "498           Dr. Seuss  \n",
       "499  George R.R. Martin  \n",
       "\n",
       "[500 rows x 3 columns]"
      ]
     },
     "execution_count": 26,
     "metadata": {},
     "output_type": "execute_result"
    }
   ],
   "source": [
    "quote_df = quote_df.drop('tag', axis=1)\n",
    "quote_df"
   ]
  },
  {
   "cell_type": "code",
   "execution_count": 37,
   "metadata": {},
   "outputs": [
    {
     "data": {
      "text/plain": [
       "['author', 'quote', 'tag']"
      ]
     },
     "execution_count": 37,
     "metadata": {},
     "output_type": "execute_result"
    }
   ],
   "source": [
    "rds_connection_string = f\"postgres:{pwd}@localhost:5432/ETL_Project\"\n",
    "engine = create_engine(f'postgresql://{rds_connection_string}')\n",
    "engine.table_names()"
   ]
  },
  {
   "cell_type": "code",
   "execution_count": 30,
   "metadata": {},
   "outputs": [],
   "source": [
    "author_df.to_sql(name='author', con=engine, if_exists='append', index=False)"
   ]
  },
  {
   "cell_type": "code",
   "execution_count": 31,
   "metadata": {},
   "outputs": [],
   "source": [
    "quote_df.to_sql(name='quote', con=engine, if_exists='append', index=False)"
   ]
  },
  {
   "cell_type": "code",
   "execution_count": 32,
   "metadata": {},
   "outputs": [
    {
     "data": {
      "text/plain": [
       "['books', 'mind']"
      ]
     },
     "execution_count": 32,
     "metadata": {},
     "output_type": "execute_result"
    }
   ],
   "source": [
    "tags['tag'][99]"
   ]
  },
  {
   "cell_type": "code",
   "execution_count": 33,
   "metadata": {},
   "outputs": [],
   "source": [
    "tags = tags.explode('tag')"
   ]
  },
  {
   "cell_type": "code",
   "execution_count": 34,
   "metadata": {},
   "outputs": [],
   "source": [
    "sys.setrecursionlimit(100000)"
   ]
  },
  {
   "cell_type": "code",
   "execution_count": 36,
   "metadata": {},
   "outputs": [],
   "source": [
    "tags.to_sql(name='tag', con=engine, if_exists='append', index=False)"
   ]
  },
  {
   "cell_type": "code",
   "execution_count": null,
   "metadata": {},
   "outputs": [],
   "source": []
  },
  {
   "cell_type": "code",
   "execution_count": null,
   "metadata": {},
   "outputs": [],
   "source": []
  },
  {
   "cell_type": "code",
   "execution_count": null,
   "metadata": {},
   "outputs": [],
   "source": []
  }
 ],
 "metadata": {
  "kernelspec": {
   "display_name": "Python 3",
   "language": "python",
   "name": "python3"
  },
  "language_info": {
   "codemirror_mode": {
    "name": "ipython",
    "version": 3
   },
   "file_extension": ".py",
   "mimetype": "text/x-python",
   "name": "python",
   "nbconvert_exporter": "python",
   "pygments_lexer": "ipython3",
   "version": "3.8.5"
  },
  "varInspector": {
   "cols": {
    "lenName": 16,
    "lenType": 16,
    "lenVar": 40
   },
   "kernels_config": {
    "python": {
     "delete_cmd_postfix": "",
     "delete_cmd_prefix": "del ",
     "library": "var_list.py",
     "varRefreshCmd": "print(var_dic_list())"
    },
    "r": {
     "delete_cmd_postfix": ") ",
     "delete_cmd_prefix": "rm(",
     "library": "var_list.r",
     "varRefreshCmd": "cat(var_dic_list()) "
    }
   },
   "types_to_exclude": [
    "module",
    "function",
    "builtin_function_or_method",
    "instance",
    "_Feature"
   ],
   "window_display": false
  }
 },
 "nbformat": 4,
 "nbformat_minor": 4
}
